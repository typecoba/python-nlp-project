{
 "cells": [
  {
   "cell_type": "code",
   "execution_count": null,
   "metadata": {},
   "outputs": [],
   "source": [
    "'''\n",
    "fasttext로 tag데이터 학습\n",
    "1.tag데이터 \n",
    "2.오탈자체크 교정\n",
    "3.tag->가장 가까운 post 테스트\n",
    "'''"
   ]
  },
  {
   "cell_type": "markdown",
   "metadata": {},
   "source": [
    "### import"
   ]
  },
  {
   "cell_type": "code",
   "execution_count": 40,
   "metadata": {},
   "outputs": [
    {
     "name": "stdout",
     "output_type": "stream",
     "text": [
      "3.4.0\n"
     ]
    }
   ],
   "source": [
    "import gensim\n",
    "print(gensim.__version__)\n",
    "from soynlp.hangle import decompose\n",
    "from soynlp.hangle import compose\n",
    "import pandas as pd\n",
    "import numpy as np"
   ]
  },
  {
   "cell_type": "markdown",
   "metadata": {},
   "source": [
    "### util"
   ]
  },
  {
   "cell_type": "code",
   "execution_count": 6,
   "metadata": {},
   "outputs": [],
   "source": [
    "# 한글 자모음 분리\n",
    "def preprocessing(s):\n",
    "    s_ = ' '\n",
    "    for c in s:\n",
    "        if c == ' ' and s_[-1] != ' ':\n",
    "            s_ += ' '\n",
    "            continue\n",
    "        jamo = decompose(c)\n",
    "        if (not jamo):\n",
    "            if s_[-1] != ' ':\n",
    "                s_ += ' '\n",
    "            continue\n",
    "        if (len(jamo) != 3) or (jamo[0] == ' ' or jamo[1] == ' '):\n",
    "            s_ += ' '\n",
    "            continue        \n",
    "        s_ += ''.join([jamo[0], jamo[1], '-' if jamo[2] == ' ' else jamo[2]])\n",
    "    return s_.strip()\n",
    "\n",
    "# 한글 자모음 조합\n",
    "def recover(s, debug=False):\n",
    "\n",
    "    assert len(s) % 3 == 0\n",
    "\n",
    "    s_ = s.replace('-', ' ')\n",
    "    chars = [tuple(s_[3*i:3*(i+1)]) for i in range(len(s_)//3)]\n",
    "\n",
    "    if debug:\n",
    "        print(chars)\n",
    "\n",
    "    recovered = [compose(*char) for char in chars]\n",
    "    recovered = ''.join(recovered)\n",
    "    return recovered"
   ]
  },
  {
   "cell_type": "code",
   "execution_count": 22,
   "metadata": {},
   "outputs": [
    {
     "data": {
      "text/plain": [
       "'ㅇㅜ-ㅎㅏ-ㅎㅏ-ㅎㅏㅎㅋㅔㅋㅋㅔㅋㅇㅏ-ㅇㅣ-ㄱㅗ-ㅇㅗ-ㅇㅗ-ㄱㅗ-'"
      ]
     },
     "execution_count": 22,
     "metadata": {},
     "output_type": "execute_result"
    }
   ],
   "source": [
    "preprocessing(\"우하하핳켘켘아이고오오고\")"
   ]
  },
  {
   "cell_type": "code",
   "execution_count": 23,
   "metadata": {},
   "outputs": [
    {
     "data": {
      "text/plain": [
       "'우하하핳켘켘아이고오오고'"
      ]
     },
     "execution_count": 23,
     "metadata": {},
     "output_type": "execute_result"
    }
   ],
   "source": [
    "recover(\"ㅇㅜ-ㅎㅏ-ㅎㅏ-ㅎㅏㅎㅋㅔㅋㅋㅔㅋㅇㅏ-ㅇㅣ-ㄱㅗ-ㅇㅗ-ㅇㅗ-ㄱㅗ-\")"
   ]
  },
  {
   "cell_type": "markdown",
   "metadata": {},
   "source": [
    "### data load"
   ]
  },
  {
   "cell_type": "code",
   "execution_count": 26,
   "metadata": {},
   "outputs": [],
   "source": [
    "data1 = pd.read_csv(\"../data/ta_hashtag/doc2vec_ta_hashtag_0-10M.csv\", header=None, encoding='CP949')\n",
    "data2 = pd.read_csv(\"../data/ta_hashtag/doc2vec_ta_hashtag_10-20M.csv\", header=None, encoding='CP949')\n",
    "data3 = pd.read_csv(\"../data/ta_hashtag/doc2vec_ta_hashtag_20-30M.csv\", header=None, encoding='CP949')\n",
    "data4 = pd.read_csv(\"../data/ta_hashtag/doc2vec_ta_hashtag_30-40M.csv\", header=None, encoding='CP949')\n",
    "data5 = pd.read_csv(\"../data/ta_hashtag/doc2vec_ta_hashtag_40-47M.csv\", header=None, encoding='CP949')"
   ]
  },
  {
   "cell_type": "code",
   "execution_count": 27,
   "metadata": {},
   "outputs": [],
   "source": [
    "# merge\n",
    "data = pd.concat([data1,data2,data3,data4,data5])"
   ]
  },
  {
   "cell_type": "code",
   "execution_count": 28,
   "metadata": {},
   "outputs": [
    {
     "data": {
      "text/plain": [
       "(47731282, 2)"
      ]
     },
     "execution_count": 28,
     "metadata": {},
     "output_type": "execute_result"
    }
   ],
   "source": [
    "data.shape"
   ]
  },
  {
   "cell_type": "code",
   "execution_count": null,
   "metadata": {},
   "outputs": [],
   "source": []
  },
  {
   "cell_type": "markdown",
   "metadata": {},
   "source": [
    "### preprocessing"
   ]
  },
  {
   "cell_type": "code",
   "execution_count": 30,
   "metadata": {},
   "outputs": [
    {
     "data": {
      "text/plain": [
       "0                                                   패션\n",
       "1                                                   패션\n",
       "2    패션,데일리룩,셀스타그램,거울샷,셀카,셀피,아이폰,오오티디,니트,터틀넥니트,like...\n",
       "3                                   패션,commedesgarcons\n",
       "Name: 1, dtype: object"
      ]
     },
     "execution_count": 30,
     "metadata": {},
     "output_type": "execute_result"
    }
   ],
   "source": [
    "data[1][:4]"
   ]
  },
  {
   "cell_type": "code",
   "execution_count": 43,
   "metadata": {},
   "outputs": [
    {
     "name": "stdout",
     "output_type": "stream",
     "text": [
      "Wall time: 50min 58s\n"
     ]
    }
   ],
   "source": [
    "%%time\n",
    "tag_devided = data[1].map(lambda x: preprocessing(x.replace(',',' ')))"
   ]
  },
  {
   "cell_type": "code",
   "execution_count": 45,
   "metadata": {},
   "outputs": [
    {
     "data": {
      "text/plain": [
       "0                                               ㅍㅐ-ㅅㅕㄴ\n",
       "1                                               ㅍㅐ-ㅅㅕㄴ\n",
       "2    ㅍㅐ-ㅅㅕㄴ ㄷㅔ-ㅇㅣㄹㄹㅣ-ㄹㅜㄱ ㅅㅔㄹㅅㅡ-ㅌㅏ-ㄱㅡ-ㄹㅐㅁ ㄱㅓ-ㅇㅜㄹㅅㅑㅅ ...\n",
       "3                                               ㅍㅐ-ㅅㅕㄴ\n",
       "4    ㅍㅐ-ㅅㅕㄴ ㅅㅔㄹㅋㅏ- ㅅㅔㄹㅍㅣ- ㅅㅔㄹㅅㅡ-ㅌㅏ-ㄱㅡ-ㄹㅐㅁ ㅁㅗ-ㄷㅔㄹ ㅍㅣ...\n",
       "Name: 1, dtype: object"
      ]
     },
     "execution_count": 45,
     "metadata": {},
     "output_type": "execute_result"
    }
   ],
   "source": [
    "tag_devided[:5]"
   ]
  },
  {
   "cell_type": "code",
   "execution_count": 44,
   "metadata": {},
   "outputs": [],
   "source": [
    "savePath = '../data/ta_hashtag/fasttext_tag_devided.txt'\n",
    "np.savetxt(savePath, tag_devided.values, delimiter=' ', fmt='%s')"
   ]
  },
  {
   "cell_type": "markdown",
   "metadata": {},
   "source": [
    "### fasttext"
   ]
  },
  {
   "cell_type": "code",
   "execution_count": 50,
   "metadata": {},
   "outputs": [
    {
     "ename": "ImportError",
     "evalue": "cannot import name 'Sent2Vec'",
     "output_type": "error",
     "traceback": [
      "\u001b[1;31m---------------------------------------------------------------------------\u001b[0m",
      "\u001b[1;31mImportError\u001b[0m                               Traceback (most recent call last)",
      "\u001b[1;32m<ipython-input-50-0068353a6384>\u001b[0m in \u001b[0;36m<module>\u001b[1;34m()\u001b[0m\n\u001b[1;32m----> 1\u001b[1;33m \u001b[1;32mfrom\u001b[0m \u001b[0mgensim\u001b[0m\u001b[1;33m.\u001b[0m\u001b[0mmodels\u001b[0m \u001b[1;32mimport\u001b[0m \u001b[0mSent2Vec\u001b[0m\u001b[1;33m\u001b[0m\u001b[0m\n\u001b[0m",
      "\u001b[1;31mImportError\u001b[0m: cannot import name 'Sent2Vec'"
     ]
    }
   ],
   "source": [
    "from gensim.models import Sent2Vec"
   ]
  },
  {
   "cell_type": "code",
   "execution_count": null,
   "metadata": {},
   "outputs": [],
   "source": []
  },
  {
   "cell_type": "code",
   "execution_count": null,
   "metadata": {},
   "outputs": [],
   "source": []
  },
  {
   "cell_type": "code",
   "execution_count": null,
   "metadata": {},
   "outputs": [],
   "source": []
  },
  {
   "cell_type": "code",
   "execution_count": null,
   "metadata": {},
   "outputs": [],
   "source": []
  },
  {
   "cell_type": "code",
   "execution_count": null,
   "metadata": {},
   "outputs": [],
   "source": []
  },
  {
   "cell_type": "code",
   "execution_count": null,
   "metadata": {},
   "outputs": [],
   "source": []
  },
  {
   "cell_type": "code",
   "execution_count": null,
   "metadata": {},
   "outputs": [],
   "source": []
  }
 ],
 "metadata": {
  "anaconda-cloud": {},
  "kernelspec": {
   "display_name": "Python [conda env:Anaconda3]",
   "language": "python",
   "name": "conda-env-Anaconda3-py"
  },
  "language_info": {
   "codemirror_mode": {
    "name": "ipython",
    "version": 3
   },
   "file_extension": ".py",
   "mimetype": "text/x-python",
   "name": "python",
   "nbconvert_exporter": "python",
   "pygments_lexer": "ipython3",
   "version": "3.5.6"
  }
 },
 "nbformat": 4,
 "nbformat_minor": 2
}
