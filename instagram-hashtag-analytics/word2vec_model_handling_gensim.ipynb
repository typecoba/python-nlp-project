{
 "cells": [
  {
   "cell_type": "code",
   "execution_count": 1,
   "metadata": {},
   "outputs": [
    {
     "name": "stderr",
     "output_type": "stream",
     "text": [
      "C:\\Users\\mediance_ssh\\Anaconda3\\lib\\site-packages\\gensim\\utils.py:1197: UserWarning: detected Windows; aliasing chunkize to chunkize_serial\n",
      "  warnings.warn(\"detected Windows; aliasing chunkize to chunkize_serial\")\n"
     ]
    }
   ],
   "source": [
    "#import\n",
    "import time\n",
    "from gensim.models import KeyedVectors, Word2Vec\n",
    "from pprint import pprint"
   ]
  },
  {
   "cell_type": "code",
   "execution_count": 2,
   "metadata": {},
   "outputs": [],
   "source": [
    "#load\n",
    "'''\n",
    "bin 파일이 용량이 약간 적어 load해보려고 했으나 UnicodeDecodeError, \n",
    "word2vec.load 로 하면 UnpicklingError.. blazingtext로 학습시킬때 뭔가 옵션이 있지 않을까 싶다..\n",
    "결국엔 txt파일 불러들이는 것으로..\n",
    "\n",
    "# word_vectors = KeyedVectors.load_word2vec_format(model_path, binary=True, unicode_errors='ignore')\n",
    "# word_vectors = Word2Vec.load(model_path)\n",
    "''' \n",
    "\n",
    "model_path = '../data/ta_hashtag/vectors_dim_300.txt';\n",
    "word_vectors = KeyedVectors.load_word2vec_format(model_path, binary=False)\n"
   ]
  },
  {
   "cell_type": "code",
   "execution_count": 36,
   "metadata": {},
   "outputs": [
    {
     "name": "stderr",
     "output_type": "stream",
     "text": [
      "C:\\Users\\mediance_ssh\\Anaconda3\\lib\\site-packages\\ipykernel\\__main__.py:1: DeprecationWarning: Call to deprecated `wv` (Attribute will be removed in 4.0.0, use self instead).\n",
      "  if __name__ == '__main__':\n"
     ]
    },
    {
     "data": {
      "text/plain": [
       "<gensim.models.keyedvectors.Word2VecKeyedVectors at 0x185d4d68>"
      ]
     },
     "execution_count": 36,
     "metadata": {},
     "output_type": "execute_result"
    }
   ],
   "source": [
    "word_vectors.wv"
   ]
  },
  {
   "cell_type": "code",
   "execution_count": 72,
   "metadata": {},
   "outputs": [
    {
     "data": {
      "text/plain": [
       "[('한국여행', 0.5093815922737122),\n",
       " ('일본인', 0.4015125036239624),\n",
       " ('도모친구들', 0.3963797688484192),\n",
       " ('한국생활', 0.39573442935943604),\n",
       " ('가울내일', 0.38791337609291077),\n",
       " ('한국유학', 0.3867427706718445),\n",
       " ('bunnysbuddies', 0.383873850107193),\n",
       " ('한국어', 0.3822590708732605),\n",
       " ('단독등재', 0.38084614276885986),\n",
       " ('domosfriends', 0.37768885493278503),\n",
       " ('korea', 0.37701481580734253),\n",
       " ('화장품국제원료집', 0.3764325976371765),\n",
       " ('운동마니아호주대사', 0.37320926785469055),\n",
       " ('일본사람', 0.37267935276031494),\n",
       " ('넘버원소주', 0.3724552094936371),\n",
       " ('한국어공부중', 0.36437803506851196),\n",
       " ('y1003_grace', 0.3638451099395752),\n",
       " ('하미수니', 0.3626982271671295),\n",
       " ('주한호주대사', 0.36174947023391724),\n",
       " ('한달간의승급', 0.3598739504814148),\n",
       " ('했더라', 0.3591211140155792),\n",
       " ('긴앙', 0.3574206829071045),\n",
       " ('nour', 0.3555825352668762),\n",
       " ('제임스_최', 0.3552149832248688),\n",
       " ('james_choi', 0.35520052909851074),\n",
       " ('쏟아지는뉴핀', 0.35418105125427246),\n",
       " ('백색국가', 0.35416674613952637),\n",
       " ('bateaubleue', 0.3534559905529022),\n",
       " ('오지도못하고', 0.35183683037757874),\n",
       " ('hallyuyooneunhye', 0.35075294971466064),\n",
       " ('누르', 0.3500222861766815),\n",
       " ('금강대학교', 0.3479195237159729),\n",
       " ('garach', 0.3469359874725342),\n",
       " ('yukichan_korea_food', 0.3460102677345276),\n",
       " ('개최합니다', 0.3458934426307678),\n",
       " ('비즈니스라이선스', 0.34562546014785767),\n",
       " ('jy모터스', 0.3442424535751343),\n",
       " ('금강대', 0.34320008754730225),\n",
       " ('한국좋아', 0.34303104877471924),\n",
       " ('grace_', 0.3412439823150635),\n",
       " ('똥줄타는중', 0.3403227925300598),\n",
       " ('진짜맛있었는뎅', 0.3393028974533081),\n",
       " ('inackobe', 0.3387882709503174),\n",
       " ('화이트리스트제외', 0.33826541900634766),\n",
       " ('봄내일', 0.3381514549255371),\n",
       " ('국내후원단체', 0.3372550904750824),\n",
       " ('한국사랑', 0.33702975511550903),\n",
       " ('한국표준금거래소', 0.33608055114746094),\n",
       " ('조엔_리', 0.3354330062866211),\n",
       " ('국내기부단체', 0.3351022005081177)]"
      ]
     },
     "execution_count": 72,
     "metadata": {},
     "output_type": "execute_result"
    }
   ],
   "source": [
    "#test\n",
    "word_vectors.most_similar(['일본','한국'],['도쿄'],50)"
   ]
  },
  {
   "cell_type": "code",
   "execution_count": 30,
   "metadata": {},
   "outputs": [],
   "source": [
    "# 추가학습된 vector \n",
    "# 야이... 이거 뭐지?\n",
    "model_path1 = '../data/ta_hashtag/vectors_0-20M.txt';\n",
    "model_path2 = '../data/ta_hashtag/vectors_20M-40M.txt';\n",
    "word2Vec = Word2Vec()"
   ]
  },
  {
   "cell_type": "code",
   "execution_count": null,
   "metadata": {},
   "outputs": [],
   "source": [
    "word2Vec.intersect_word2vec_format(fname=model_path2, lockf=True, binary=False)"
   ]
  }
 ],
 "metadata": {
  "anaconda-cloud": {},
  "kernelspec": {
   "display_name": "Python [conda env:Anaconda3]",
   "language": "python",
   "name": "conda-env-Anaconda3-py"
  },
  "language_info": {
   "codemirror_mode": {
    "name": "ipython",
    "version": 3
   },
   "file_extension": ".py",
   "mimetype": "text/x-python",
   "name": "python",
   "nbconvert_exporter": "python",
   "pygments_lexer": "ipython3",
   "version": "3.5.6"
  }
 },
 "nbformat": 4,
 "nbformat_minor": 2
}
