{
 "cells": [
  {
   "cell_type": "markdown",
   "metadata": {},
   "source": [
    "## library import "
   ]
  },
  {
   "cell_type": "code",
   "execution_count": 98,
   "metadata": {},
   "outputs": [],
   "source": [
    "import os\n",
    "from pprint import pprint\n",
    "from gensim.models import Word2Vec\n",
    "from gensim.models import KeyedVectors"
   ]
  },
  {
   "cell_type": "markdown",
   "metadata": {},
   "source": [
    "## load data & preprocessing"
   ]
  },
  {
   "cell_type": "code",
   "execution_count": 87,
   "metadata": {},
   "outputs": [],
   "source": [
    "train_path = '../data/ta_hashtag/hashtag_5M_all_4G.txt'"
   ]
  },
  {
   "cell_type": "code",
   "execution_count": 88,
   "metadata": {},
   "outputs": [],
   "source": [
    "class CommentWord2Vec:\n",
    "    \n",
    "    def __init__(self, fname):\n",
    "        self.fname = fname\n",
    "        if not os.path.exists(fname):\n",
    "            print('File not found: %s' % fname)\n",
    "        \n",
    "    def __iter__(self):\n",
    "        with open(self.fname, encoding='utf-8') as f:\n",
    "            for doc in f:                \n",
    "                yield doc.split()"
   ]
  },
  {
   "cell_type": "code",
   "execution_count": 90,
   "metadata": {},
   "outputs": [],
   "source": [
    "sentence = CommentWord2Vec(train_path)"
   ]
  },
  {
   "cell_type": "code",
   "execution_count": 91,
   "metadata": {},
   "outputs": [
    {
     "name": "stdout",
     "output_type": "stream",
     "text": [
      "['\\ufeff패션']\n",
      "['패션']\n",
      "['패션', '데일리룩', '셀스타그램', '거울샷', '셀카', '셀피', '아이폰', '오오티디', '니트', '터틀넥니트', 'likeforlikes', '좋아요반사', '선팔하면맞팔', '맞팔', '서울', 'selca', 'selfie', 'dailylook', 'dailyfashion', 'fff']\n",
      "['패션', 'commedesgarcons']\n",
      "['패션', '셀카', '셀피', '셀스타그램', '모델', '피팅모델', '뷰티모델', '데일리룩', '데일리', '소통', '일상', '팔로우', '댓글', '선팔하면맞팔', '선팔', '좋아요', 'selfie', 'selca', 'daily', 'ootd', 'model', 'follow']\n",
      "['패션']\n"
     ]
    }
   ],
   "source": [
    "for num, doc in enumerate(sentence) : \n",
    "    if num > 5 : break\n",
    "    print(doc)"
   ]
  },
  {
   "cell_type": "markdown",
   "metadata": {},
   "source": [
    "## word2vec model"
   ]
  },
  {
   "cell_type": "code",
   "execution_count": 92,
   "metadata": {},
   "outputs": [],
   "source": [
    "model =  Word2Vec(sentence,\n",
    "                  size=300,\n",
    "                  alpha=0.025,\n",
    "                  window=5,\n",
    "                  min_count=5,\n",
    "                  workers=4,\n",
    "                  sg=0,\n",
    "                  negative=5)"
   ]
  },
  {
   "cell_type": "code",
   "execution_count": 74,
   "metadata": {},
   "outputs": [
    {
     "name": "stdout",
     "output_type": "stream",
     "text": [
      "(1341843, 100)\n"
     ]
    },
    {
     "name": "stderr",
     "output_type": "stream",
     "text": [
      "C:\\Users\\mediance_ssh\\Anaconda3\\lib\\site-packages\\ipykernel\\__main__.py:1: DeprecationWarning: Call to deprecated `syn0` (Attribute will be removed in 4.0.0, use self.wv.vectors instead).\n",
      "  if __name__ == '__main__':\n"
     ]
    }
   ],
   "source": [
    "print( model.wv.syn0.shape)"
   ]
  },
  {
   "cell_type": "code",
   "execution_count": 86,
   "metadata": {
    "scrolled": true
   },
   "outputs": [
    {
     "name": "stderr",
     "output_type": "stream",
     "text": [
      "C:\\Users\\mediance_ssh\\Anaconda3\\lib\\site-packages\\ipykernel\\__main__.py:1: DeprecationWarning: Call to deprecated `most_similar` (Method will be removed in 4.0.0, use self.wv.most_similar() instead).\n",
      "  if __name__ == '__main__':\n"
     ]
    },
    {
     "name": "stdout",
     "output_type": "stream",
     "text": [
      "[('서강대학교', 0.8234924077987671),\n",
      " ('명지대', 0.8025978803634644),\n",
      " ('연세대학교', 0.7974132895469666),\n",
      " ('중앙대학교', 0.7908751964569092),\n",
      " ('서강대', 0.7772843837738037),\n",
      " ('인천대', 0.7654740810394287),\n",
      " ('홍익대', 0.763787031173706),\n",
      " ('숙명여자대학교', 0.753156304359436),\n",
      " ('동국대학교', 0.7464019060134888),\n",
      " ('명지전문대', 0.730726957321167)]\n"
     ]
    }
   ],
   "source": [
    "pprint(model.most_similar(positive=['명지대학교']))"
   ]
  },
  {
   "cell_type": "code",
   "execution_count": 94,
   "metadata": {},
   "outputs": [],
   "source": [
    "model.save('word2vec_4G_300dim.model')"
   ]
  },
  {
   "cell_type": "code",
   "execution_count": 95,
   "metadata": {},
   "outputs": [],
   "source": [
    "model.wv.save_word2vec_format('word2vec_4G_300dim.txt') # model 파일보다 훨씬 크다..."
   ]
  },
  {
   "cell_type": "code",
   "execution_count": null,
   "metadata": {},
   "outputs": [],
   "source": [
    "## blazingtext 에서 생성한 vector.txt 를 읽어서 .model 파일로 저장할 수 있나?"
   ]
  },
  {
   "cell_type": "code",
   "execution_count": 107,
   "metadata": {},
   "outputs": [],
   "source": [
    "model2 = KeyedVectors.load_word2vec_format('word2vec_4G_300dim.txt')"
   ]
  },
  {
   "cell_type": "code",
   "execution_count": null,
   "metadata": {},
   "outputs": [],
   "source": []
  }
 ],
 "metadata": {
  "anaconda-cloud": {},
  "kernelspec": {
   "display_name": "Python [conda env:Anaconda3]",
   "language": "python",
   "name": "conda-env-Anaconda3-py"
  },
  "language_info": {
   "codemirror_mode": {
    "name": "ipython",
    "version": 3
   },
   "file_extension": ".py",
   "mimetype": "text/x-python",
   "name": "python",
   "nbconvert_exporter": "python",
   "pygments_lexer": "ipython3",
   "version": "3.5.6"
  }
 },
 "nbformat": 4,
 "nbformat_minor": 2
}
