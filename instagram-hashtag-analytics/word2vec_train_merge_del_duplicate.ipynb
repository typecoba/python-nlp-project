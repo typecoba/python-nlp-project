{
 "cells": [
  {
   "cell_type": "code",
   "execution_count": 1,
   "metadata": {},
   "outputs": [
    {
     "data": {
      "text/plain": [
       "'\\n1. hashtag 데이터 다운로드\\n    select * from ta_top_post_master limit 10000000\\n    에러 방지위해 column제한없이 백만씩 순서대로 끊어 추후 마지막부터 추가로 로드    \\n2. 파일 로드 후 중복제거해서 merge\\n3. 저장\\n'"
      ]
     },
     "execution_count": 1,
     "metadata": {},
     "output_type": "execute_result"
    }
   ],
   "source": [
    "'''\n",
    "1. hashtag 데이터 다운로드\n",
    "    select * from ta_top_post_master limit 10000000\n",
    "    에러 방지위해 column제한없이 백만씩 순서대로 끊어 추후 마지막부터 추가로 로드    \n",
    "2. 파일 로드 후 중복제거해서 merge\n",
    "3. 저장\n",
    "'''"
   ]
  },
  {
   "cell_type": "code",
   "execution_count": 2,
   "metadata": {},
   "outputs": [],
   "source": [
    "import csv"
   ]
  },
  {
   "cell_type": "code",
   "execution_count": 19,
   "metadata": {},
   "outputs": [
    {
     "name": "stdout",
     "output_type": "stream",
     "text": [
      "../data/ta_hashtag/ta_hashtag_0-10M.csv\n",
      "../data/ta_hashtag/ta_hashtag_10-20M.csv\n",
      "../data/ta_hashtag/ta_hashtag_20-30M.csv\n",
      "../data/ta_hashtag/ta_hashtag_30-40M.csv\n",
      "../data/ta_hashtag/ta_hashtag_40-44M.csv\n"
     ]
    }
   ],
   "source": [
    "csvPath0 = '../data/ta_hashtag/ta_hashtag_0-10M.csv'\n",
    "csvPath1 = '../data/ta_hashtag/ta_hashtag_10-20M.csv'\n",
    "csvPath2 = '../data/ta_hashtag/ta_hashtag_20-30M.csv'\n",
    "csvPath3 = '../data/ta_hashtag/ta_hashtag_30-40M.csv'\n",
    "csvPath4 = '../data/ta_hashtag/ta_hashtag_40-44M.csv'\n",
    "\n",
    "tempSet = set() # 집합\n",
    "\n",
    "\n",
    "for i in range(5):\n",
    "    csvPath = globals() ['csvPath{}'.format(i)]\n",
    "    print(csvPath)\n",
    "    with open(csvPath, 'r', encoding='utf-8') as csv_f:\n",
    "#         temp = csv.reader(csv_f)\n",
    "#         print(list(temp)[:5])\n",
    "        date, tag = zip(*csv.reader(csv_f))    \n",
    "        tempSet = tempSet.union(set(tag))\n",
    "csv_f.close()"
   ]
  },
  {
   "cell_type": "code",
   "execution_count": 20,
   "metadata": {},
   "outputs": [
    {
     "name": "stdout",
     "output_type": "stream",
     "text": [
      "28592832\n"
     ]
    }
   ],
   "source": [
    "print(len(tempSet))"
   ]
  },
  {
   "cell_type": "code",
   "execution_count": 24,
   "metadata": {},
   "outputs": [
    {
     "data": {
      "text/plain": [
       "['일산키즈카페,서프라이즈,선물,산타할아버지,릴리펏주엽점의,릴리펏주엽,주엽릴리펏,메리크리스마스,팔찌만들기,키즈레스토랑,맘카페,생일파티,조리원동기모임,어린이집모임,유치원모임,반모임,송년회,릴리펏일산,일산릴리펏,일산카페,일산맛집,일산가볼만한곳,일산핫플레이스,일산맘,파주맘,운정맘,화정맘,원당맘',\n",
       " '부산슈가크래프트,waferpaperflowers,식용종이꽃,로즈,웨이퍼페이퍼플라워,베일리슈가,슈가페이스트',\n",
       " '처인구,지니헤어,역북동미용실,잘자름,헤어스파',\n",
       " '우주그램,수학전집,전집활용,몬테소리,수담뿍,몬테소리육아,통계,그래프,우가우가대작전,책육아,육아정보,육아소통,우주일상,우주,39개월아기,4살딸,청양띠딸램,딸스타그램,엄마표몬테소리,엄마표놀이,엄마랑놀기',\n",
       " '다른것도,이게뭘까요,하나씩하나씩,오픈준비중,겁나무겁네,아직은너로충분해,도와다오,나의키친을,도와죠']"
      ]
     },
     "execution_count": 24,
     "metadata": {},
     "output_type": "execute_result"
    }
   ],
   "source": [
    "list(tempSet)[:5]"
   ]
  },
  {
   "cell_type": "code",
   "execution_count": 37,
   "metadata": {},
   "outputs": [],
   "source": [
    "# 파일저장\n",
    "savePath = '../data/ta_hashtag/ta_hashtag_0-44M.txt'\n",
    "with open(savePath, 'w', encoding='utf-8') as txt_f:\n",
    "    for row in tempSet :\n",
    "        txt_f.write(row.replace(',',' ')+'\\n')\n",
    "txt_f.close()"
   ]
  },
  {
   "cell_type": "code",
   "execution_count": 40,
   "metadata": {},
   "outputs": [],
   "source": []
  },
  {
   "cell_type": "code",
   "execution_count": null,
   "metadata": {},
   "outputs": [],
   "source": []
  },
  {
   "cell_type": "code",
   "execution_count": null,
   "metadata": {},
   "outputs": [],
   "source": []
  }
 ],
 "metadata": {
  "anaconda-cloud": {},
  "kernelspec": {
   "display_name": "Python [conda env:Anaconda3]",
   "language": "python",
   "name": "conda-env-Anaconda3-py"
  },
  "language_info": {
   "codemirror_mode": {
    "name": "ipython",
    "version": 3
   },
   "file_extension": ".py",
   "mimetype": "text/x-python",
   "name": "python",
   "nbconvert_exporter": "python",
   "pygments_lexer": "ipython3",
   "version": "3.5.6"
  }
 },
 "nbformat": 4,
 "nbformat_minor": 2
}
