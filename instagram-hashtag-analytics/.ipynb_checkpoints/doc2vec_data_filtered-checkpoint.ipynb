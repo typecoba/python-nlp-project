{
 "cells": [
  {
   "cell_type": "markdown",
   "metadata": {},
   "source": [
    "ta_top_post_master 의 owner_id, hashtag로 이루어진 데이터를 doc2vec으로 학습시키고자함.<br>\n",
    "약 4700만 row를 학습시킨결과 owner_id가 한두번만 나오는것 다수 확인.<br>\n",
    "학습에 영향을 적게 미치는 데이터 확인과 삭제필요.<br>\n",
    "username 컬럼 대응.<br>\n"
   ]
  },
  {
   "cell_type": "markdown",
   "metadata": {},
   "source": [
    "## import"
   ]
  },
  {
   "cell_type": "code",
   "execution_count": 1,
   "metadata": {},
   "outputs": [
    {
     "name": "stdout",
     "output_type": "stream",
     "text": [
      "Wall time: 0 ns\n"
     ]
    }
   ],
   "source": [
    "%time\n",
    "import pandas as pd"
   ]
  },
  {
   "cell_type": "markdown",
   "metadata": {},
   "source": [
    "## load"
   ]
  },
  {
   "cell_type": "code",
   "execution_count": 2,
   "metadata": {},
   "outputs": [],
   "source": [
    "data1 = pd.read_csv(\"../data/instagram/post/ta_hashtag_0-10M.csv\", header=0, encoding='utf-8')\n",
    "data2 = pd.read_csv(\"../data/instagram/post/ta_hashtag_10-20M.csv\", header=0, encoding='utf-8')\n",
    "data3 = pd.read_csv(\"../data/instagram/post/ta_hashtag_20-30M.csv\", header=0, encoding='utf-8')\n",
    "data4 = pd.read_csv(\"../data/instagram/post/ta_hashtag_30-40M.csv\", header=0, encoding='utf-8')\n",
    "data5 = pd.read_csv(\"../data/instagram/post/ta_hashtag_40-48M.csv\", header=0, encoding='utf-8')"
   ]
  },
  {
   "cell_type": "code",
   "execution_count": 3,
   "metadata": {},
   "outputs": [],
   "source": [
    "# merge\n",
    "data = pd.concat([data1,data2,data3,data4,data5])"
   ]
  },
  {
   "cell_type": "code",
   "execution_count": 4,
   "metadata": {},
   "outputs": [
    {
     "data": {
      "text/plain": [
       "(48250602, 7)"
      ]
     },
     "execution_count": 4,
     "metadata": {},
     "output_type": "execute_result"
    }
   ],
   "source": [
    "data.shape"
   ]
  },
  {
   "cell_type": "code",
   "execution_count": 5,
   "metadata": {},
   "outputs": [
    {
     "data": {
      "text/html": [
       "<div>\n",
       "<style scoped>\n",
       "    .dataframe tbody tr th:only-of-type {\n",
       "        vertical-align: middle;\n",
       "    }\n",
       "\n",
       "    .dataframe tbody tr th {\n",
       "        vertical-align: top;\n",
       "    }\n",
       "\n",
       "    .dataframe thead th {\n",
       "        text-align: right;\n",
       "    }\n",
       "</style>\n",
       "<table border=\"1\" class=\"dataframe\">\n",
       "  <thead>\n",
       "    <tr style=\"text-align: right;\">\n",
       "      <th></th>\n",
       "      <th>pm_owner_id</th>\n",
       "      <th>pm_id</th>\n",
       "      <th>pm_shortcode</th>\n",
       "      <th>pm_hashtag</th>\n",
       "      <th>pm_view_count</th>\n",
       "      <th>pm_like_count</th>\n",
       "      <th>pm_comment_count</th>\n",
       "    </tr>\n",
       "  </thead>\n",
       "  <tbody>\n",
       "    <tr>\n",
       "      <th>0</th>\n",
       "      <td>4134297806</td>\n",
       "      <td>1928115241867045777</td>\n",
       "      <td>BrCCpjNgGuR</td>\n",
       "      <td>패션</td>\n",
       "      <td>0</td>\n",
       "      <td>420</td>\n",
       "      <td>172</td>\n",
       "    </tr>\n",
       "    <tr>\n",
       "      <th>1</th>\n",
       "      <td>596814953</td>\n",
       "      <td>1928108200588905562</td>\n",
       "      <td>BrCBDFgnoxa</td>\n",
       "      <td>패션</td>\n",
       "      <td>0</td>\n",
       "      <td>943</td>\n",
       "      <td>13</td>\n",
       "    </tr>\n",
       "    <tr>\n",
       "      <th>2</th>\n",
       "      <td>1383284232</td>\n",
       "      <td>1928034779094274576</td>\n",
       "      <td>BrBwWqag1IQ</td>\n",
       "      <td>패션,데일리룩,셀스타그램,거울샷,셀카,셀피,아이폰,오오티디,니트,터틀넥니트,like...</td>\n",
       "      <td>0</td>\n",
       "      <td>358</td>\n",
       "      <td>13</td>\n",
       "    </tr>\n",
       "    <tr>\n",
       "      <th>3</th>\n",
       "      <td>3076185780</td>\n",
       "      <td>1928082021772864298</td>\n",
       "      <td>BrB7GIllqsq</td>\n",
       "      <td>패션,commedesgarcons</td>\n",
       "      <td>0</td>\n",
       "      <td>605</td>\n",
       "      <td>21</td>\n",
       "    </tr>\n",
       "  </tbody>\n",
       "</table>\n",
       "</div>"
      ],
      "text/plain": [
       "   pm_owner_id                pm_id pm_shortcode  \\\n",
       "0   4134297806  1928115241867045777  BrCCpjNgGuR   \n",
       "1    596814953  1928108200588905562  BrCBDFgnoxa   \n",
       "2   1383284232  1928034779094274576  BrBwWqag1IQ   \n",
       "3   3076185780  1928082021772864298  BrB7GIllqsq   \n",
       "\n",
       "                                          pm_hashtag  pm_view_count  \\\n",
       "0                                                 패션              0   \n",
       "1                                                 패션              0   \n",
       "2  패션,데일리룩,셀스타그램,거울샷,셀카,셀피,아이폰,오오티디,니트,터틀넥니트,like...              0   \n",
       "3                                 패션,commedesgarcons              0   \n",
       "\n",
       "   pm_like_count  pm_comment_count  \n",
       "0            420               172  \n",
       "1            943                13  \n",
       "2            358                13  \n",
       "3            605                21  "
      ]
     },
     "execution_count": 5,
     "metadata": {},
     "output_type": "execute_result"
    }
   ],
   "source": [
    "data[:4]"
   ]
  },
  {
   "cell_type": "markdown",
   "metadata": {},
   "source": [
    "## 전처리"
   ]
  },
  {
   "cell_type": "markdown",
   "metadata": {},
   "source": [
    "### 1. 중복제거"
   ]
  },
  {
   "cell_type": "code",
   "execution_count": 6,
   "metadata": {},
   "outputs": [],
   "source": [
    "tag_unduplicated = data.drop_duplicates(['pm_owner_id','pm_hashtag'])"
   ]
  },
  {
   "cell_type": "code",
   "execution_count": 7,
   "metadata": {},
   "outputs": [
    {
     "data": {
      "text/plain": [
       "(36503554, 7)"
      ]
     },
     "execution_count": 7,
     "metadata": {},
     "output_type": "execute_result"
    }
   ],
   "source": [
    "tag_unduplicated.shape"
   ]
  },
  {
   "cell_type": "code",
   "execution_count": 8,
   "metadata": {},
   "outputs": [
    {
     "data": {
      "text/plain": [
       "10514    동래꽃집,예쁜꽃다발,부산꽃배달,꽃선물,부산꽃집,사상꽃집,부산꽃다발,서면꽃집,예쁜꽃집...\n",
       "10515    동래꽃집,예쁜꽃다발,부산꽃배달,부산꽃집,예쁜꽃집,부산꽃다발,사상꽃집,서면꽃집,해운대...\n",
       "10517    동래꽃집,예쁜꽃집,꽃선물,부산꽃집추천,예쁜꽃다발,부산꽃배달,사상꽃집,부산꽃집,서면꽃...\n",
       "10532    서면꽃집,예쁜꽃다발,부산꽃집,예쁜꽃집,부산꽃배달,사상꽃집,부산꽃다발,덕천꽃집,해운대...\n",
       "36598    사상꽃집,예쁜꽃다발,부산꽃배달,꽃선물,부산꽃집,부산꽃다발,서면꽃집,예쁜꽃집,부산꽃집...\n",
       "Name: pm_hashtag, dtype: object"
      ]
     },
     "execution_count": 8,
     "metadata": {},
     "output_type": "execute_result"
    }
   ],
   "source": [
    "tag_unduplicated[tag_unduplicated['pm_owner_id']==2114112371]['pm_hashtag'][:5]"
   ]
  },
  {
   "cell_type": "markdown",
   "metadata": {},
   "source": [
    "### 2. id기준 최소 count 제거"
   ]
  },
  {
   "cell_type": "code",
   "execution_count": 9,
   "metadata": {},
   "outputs": [],
   "source": [
    "tag_grouped = tag_unduplicated.groupby(['pm_owner_id'], axis=0).count()"
   ]
  },
  {
   "cell_type": "code",
   "execution_count": 11,
   "metadata": {},
   "outputs": [
    {
     "data": {
      "text/html": [
       "<div>\n",
       "<style scoped>\n",
       "    .dataframe tbody tr th:only-of-type {\n",
       "        vertical-align: middle;\n",
       "    }\n",
       "\n",
       "    .dataframe tbody tr th {\n",
       "        vertical-align: top;\n",
       "    }\n",
       "\n",
       "    .dataframe thead th {\n",
       "        text-align: right;\n",
       "    }\n",
       "</style>\n",
       "<table border=\"1\" class=\"dataframe\">\n",
       "  <thead>\n",
       "    <tr style=\"text-align: right;\">\n",
       "      <th></th>\n",
       "      <th>pm_id</th>\n",
       "      <th>pm_shortcode</th>\n",
       "      <th>pm_hashtag</th>\n",
       "      <th>pm_view_count</th>\n",
       "      <th>pm_like_count</th>\n",
       "      <th>pm_comment_count</th>\n",
       "    </tr>\n",
       "    <tr>\n",
       "      <th>pm_owner_id</th>\n",
       "      <th></th>\n",
       "      <th></th>\n",
       "      <th></th>\n",
       "      <th></th>\n",
       "      <th></th>\n",
       "      <th></th>\n",
       "    </tr>\n",
       "  </thead>\n",
       "  <tbody>\n",
       "    <tr>\n",
       "      <th>428</th>\n",
       "      <td>21</td>\n",
       "      <td>21</td>\n",
       "      <td>21</td>\n",
       "      <td>21</td>\n",
       "      <td>21</td>\n",
       "      <td>21</td>\n",
       "    </tr>\n",
       "    <tr>\n",
       "      <th>584</th>\n",
       "      <td>1</td>\n",
       "      <td>1</td>\n",
       "      <td>1</td>\n",
       "      <td>1</td>\n",
       "      <td>1</td>\n",
       "      <td>1</td>\n",
       "    </tr>\n",
       "    <tr>\n",
       "      <th>3118</th>\n",
       "      <td>64</td>\n",
       "      <td>64</td>\n",
       "      <td>64</td>\n",
       "      <td>64</td>\n",
       "      <td>64</td>\n",
       "      <td>64</td>\n",
       "    </tr>\n",
       "    <tr>\n",
       "      <th>3315</th>\n",
       "      <td>13</td>\n",
       "      <td>13</td>\n",
       "      <td>13</td>\n",
       "      <td>13</td>\n",
       "      <td>13</td>\n",
       "      <td>13</td>\n",
       "    </tr>\n",
       "    <tr>\n",
       "      <th>5444</th>\n",
       "      <td>4</td>\n",
       "      <td>4</td>\n",
       "      <td>4</td>\n",
       "      <td>4</td>\n",
       "      <td>4</td>\n",
       "      <td>4</td>\n",
       "    </tr>\n",
       "  </tbody>\n",
       "</table>\n",
       "</div>"
      ],
      "text/plain": [
       "             pm_id  pm_shortcode  pm_hashtag  pm_view_count  pm_like_count  \\\n",
       "pm_owner_id                                                                  \n",
       "428             21            21          21             21             21   \n",
       "584              1             1           1              1              1   \n",
       "3118            64            64          64             64             64   \n",
       "3315            13            13          13             13             13   \n",
       "5444             4             4           4              4              4   \n",
       "\n",
       "             pm_comment_count  \n",
       "pm_owner_id                    \n",
       "428                        21  \n",
       "584                         1  \n",
       "3118                       64  \n",
       "3315                       13  \n",
       "5444                        4  "
      ]
     },
     "execution_count": 11,
     "metadata": {},
     "output_type": "execute_result"
    }
   ],
   "source": [
    "tag_grouped[:5]"
   ]
  },
  {
   "cell_type": "code",
   "execution_count": 12,
   "metadata": {},
   "outputs": [
    {
     "data": {
      "text/html": [
       "<div>\n",
       "<style scoped>\n",
       "    .dataframe tbody tr th:only-of-type {\n",
       "        vertical-align: middle;\n",
       "    }\n",
       "\n",
       "    .dataframe tbody tr th {\n",
       "        vertical-align: top;\n",
       "    }\n",
       "\n",
       "    .dataframe thead th {\n",
       "        text-align: right;\n",
       "    }\n",
       "</style>\n",
       "<table border=\"1\" class=\"dataframe\">\n",
       "  <thead>\n",
       "    <tr style=\"text-align: right;\">\n",
       "      <th></th>\n",
       "      <th>pm_id</th>\n",
       "      <th>pm_shortcode</th>\n",
       "      <th>pm_hashtag</th>\n",
       "      <th>pm_view_count</th>\n",
       "      <th>pm_like_count</th>\n",
       "      <th>pm_comment_count</th>\n",
       "    </tr>\n",
       "    <tr>\n",
       "      <th>pm_owner_id</th>\n",
       "      <th></th>\n",
       "      <th></th>\n",
       "      <th></th>\n",
       "      <th></th>\n",
       "      <th></th>\n",
       "      <th></th>\n",
       "    </tr>\n",
       "  </thead>\n",
       "  <tbody>\n",
       "    <tr>\n",
       "      <th>2114112371</th>\n",
       "      <td>10946</td>\n",
       "      <td>10946</td>\n",
       "      <td>10946</td>\n",
       "      <td>10946</td>\n",
       "      <td>10946</td>\n",
       "      <td>10946</td>\n",
       "    </tr>\n",
       "    <tr>\n",
       "      <th>1723230625</th>\n",
       "      <td>9751</td>\n",
       "      <td>9751</td>\n",
       "      <td>9751</td>\n",
       "      <td>9751</td>\n",
       "      <td>9751</td>\n",
       "      <td>9751</td>\n",
       "    </tr>\n",
       "    <tr>\n",
       "      <th>2116659183</th>\n",
       "      <td>9076</td>\n",
       "      <td>9076</td>\n",
       "      <td>9076</td>\n",
       "      <td>9076</td>\n",
       "      <td>9076</td>\n",
       "      <td>9076</td>\n",
       "    </tr>\n",
       "    <tr>\n",
       "      <th>2956362443</th>\n",
       "      <td>7893</td>\n",
       "      <td>7893</td>\n",
       "      <td>7893</td>\n",
       "      <td>7893</td>\n",
       "      <td>7893</td>\n",
       "      <td>7893</td>\n",
       "    </tr>\n",
       "    <tr>\n",
       "      <th>4878617570</th>\n",
       "      <td>5828</td>\n",
       "      <td>5828</td>\n",
       "      <td>5828</td>\n",
       "      <td>5828</td>\n",
       "      <td>5828</td>\n",
       "      <td>5828</td>\n",
       "    </tr>\n",
       "  </tbody>\n",
       "</table>\n",
       "</div>"
      ],
      "text/plain": [
       "             pm_id  pm_shortcode  pm_hashtag  pm_view_count  pm_like_count  \\\n",
       "pm_owner_id                                                                  \n",
       "2114112371   10946         10946       10946          10946          10946   \n",
       "1723230625    9751          9751        9751           9751           9751   \n",
       "2116659183    9076          9076        9076           9076           9076   \n",
       "2956362443    7893          7893        7893           7893           7893   \n",
       "4878617570    5828          5828        5828           5828           5828   \n",
       "\n",
       "             pm_comment_count  \n",
       "pm_owner_id                    \n",
       "2114112371              10946  \n",
       "1723230625               9751  \n",
       "2116659183               9076  \n",
       "2956362443               7893  \n",
       "4878617570               5828  "
      ]
     },
     "execution_count": 12,
     "metadata": {},
     "output_type": "execute_result"
    }
   ],
   "source": [
    "tag_grouped.sort_values(by='pm_id', axis=0, ascending=False)[:5]"
   ]
  },
  {
   "cell_type": "code",
   "execution_count": 13,
   "metadata": {},
   "outputs": [
    {
     "data": {
      "text/plain": [
       "(2965315, 6)"
      ]
     },
     "execution_count": 13,
     "metadata": {},
     "output_type": "execute_result"
    }
   ],
   "source": [
    "tag_grouped.shape"
   ]
  },
  {
   "cell_type": "code",
   "execution_count": 17,
   "metadata": {},
   "outputs": [
    {
     "data": {
      "text/plain": [
       "<matplotlib.axes._subplots.AxesSubplot at 0x3b460ba08>"
      ]
     },
     "execution_count": 17,
     "metadata": {},
     "output_type": "execute_result"
    },
    {
     "data": {
      "image/png": "[encoded data removed]",
      "text/plain": [
       "<Figure size 1440x360 with 1 Axes>"
      ]
     },
     "metadata": {
      "needs_background": "light"
     },
     "output_type": "display_data"
    }
   ],
   "source": [
    "tag_grouped['pm_id'].hist(range=(0,100), bins=100, figsize=(20,5))"
   ]
  },
  {
   "cell_type": "code",
   "execution_count": 19,
   "metadata": {},
   "outputs": [],
   "source": [
    "# delete list\n",
    "tag_min_filter = tag_grouped.drop( tag_grouped[tag_grouped['pm_id']<15].index ) # 크롤링된 post갯수\n",
    "tag_min_filter = tag_min_filter.reset_index()['pm_owner_id']"
   ]
  },
  {
   "cell_type": "code",
   "execution_count": 20,
   "metadata": {},
   "outputs": [
    {
     "data": {
      "text/html": [
       "<div>\n",
       "<style scoped>\n",
       "    .dataframe tbody tr th:only-of-type {\n",
       "        vertical-align: middle;\n",
       "    }\n",
       "\n",
       "    .dataframe tbody tr th {\n",
       "        vertical-align: top;\n",
       "    }\n",
       "\n",
       "    .dataframe thead th {\n",
       "        text-align: right;\n",
       "    }\n",
       "</style>\n",
       "<table border=\"1\" class=\"dataframe\">\n",
       "  <thead>\n",
       "    <tr style=\"text-align: right;\">\n",
       "      <th></th>\n",
       "      <th>pm_owner_id</th>\n",
       "      <th>pm_id</th>\n",
       "      <th>pm_shortcode</th>\n",
       "      <th>pm_hashtag</th>\n",
       "      <th>pm_view_count</th>\n",
       "      <th>pm_like_count</th>\n",
       "      <th>pm_comment_count</th>\n",
       "    </tr>\n",
       "  </thead>\n",
       "  <tbody>\n",
       "    <tr>\n",
       "      <th>0</th>\n",
       "      <td>4134297806</td>\n",
       "      <td>1928115241867045777</td>\n",
       "      <td>BrCCpjNgGuR</td>\n",
       "      <td>패션</td>\n",
       "      <td>0</td>\n",
       "      <td>420</td>\n",
       "      <td>172</td>\n",
       "    </tr>\n",
       "    <tr>\n",
       "      <th>1</th>\n",
       "      <td>596814953</td>\n",
       "      <td>1928108200588905562</td>\n",
       "      <td>BrCBDFgnoxa</td>\n",
       "      <td>패션</td>\n",
       "      <td>0</td>\n",
       "      <td>943</td>\n",
       "      <td>13</td>\n",
       "    </tr>\n",
       "    <tr>\n",
       "      <th>2</th>\n",
       "      <td>1383284232</td>\n",
       "      <td>1928034779094274576</td>\n",
       "      <td>BrBwWqag1IQ</td>\n",
       "      <td>패션,데일리룩,셀스타그램,거울샷,셀카,셀피,아이폰,오오티디,니트,터틀넥니트,like...</td>\n",
       "      <td>0</td>\n",
       "      <td>358</td>\n",
       "      <td>13</td>\n",
       "    </tr>\n",
       "    <tr>\n",
       "      <th>3</th>\n",
       "      <td>3076185780</td>\n",
       "      <td>1928082021772864298</td>\n",
       "      <td>BrB7GIllqsq</td>\n",
       "      <td>패션,commedesgarcons</td>\n",
       "      <td>0</td>\n",
       "      <td>605</td>\n",
       "      <td>21</td>\n",
       "    </tr>\n",
       "    <tr>\n",
       "      <th>4</th>\n",
       "      <td>1683993105</td>\n",
       "      <td>1928088706242300522</td>\n",
       "      <td>BrB8nZ_A8pq</td>\n",
       "      <td>패션,셀카,셀피,셀스타그램,모델,피팅모델,뷰티모델,데일리룩,데일리,소통,일상,팔로우...</td>\n",
       "      <td>0</td>\n",
       "      <td>414</td>\n",
       "      <td>28</td>\n",
       "    </tr>\n",
       "  </tbody>\n",
       "</table>\n",
       "</div>"
      ],
      "text/plain": [
       "   pm_owner_id                pm_id pm_shortcode  \\\n",
       "0   4134297806  1928115241867045777  BrCCpjNgGuR   \n",
       "1    596814953  1928108200588905562  BrCBDFgnoxa   \n",
       "2   1383284232  1928034779094274576  BrBwWqag1IQ   \n",
       "3   3076185780  1928082021772864298  BrB7GIllqsq   \n",
       "4   1683993105  1928088706242300522  BrB8nZ_A8pq   \n",
       "\n",
       "                                          pm_hashtag  pm_view_count  \\\n",
       "0                                                 패션              0   \n",
       "1                                                 패션              0   \n",
       "2  패션,데일리룩,셀스타그램,거울샷,셀카,셀피,아이폰,오오티디,니트,터틀넥니트,like...              0   \n",
       "3                                 패션,commedesgarcons              0   \n",
       "4  패션,셀카,셀피,셀스타그램,모델,피팅모델,뷰티모델,데일리룩,데일리,소통,일상,팔로우...              0   \n",
       "\n",
       "   pm_like_count  pm_comment_count  \n",
       "0            420               172  \n",
       "1            943                13  \n",
       "2            358                13  \n",
       "3            605                21  \n",
       "4            414                28  "
      ]
     },
     "execution_count": 20,
     "metadata": {},
     "output_type": "execute_result"
    }
   ],
   "source": [
    "tag_filtered = tag_unduplicated[tag_unduplicated['pm_owner_id'].isin(tag_min_filter)]\n",
    "tag_filtered[:5]"
   ]
  },
  {
   "cell_type": "code",
   "execution_count": 21,
   "metadata": {
    "scrolled": true
   },
   "outputs": [
    {
     "data": {
      "text/plain": [
       "(27825693, 7)"
      ]
     },
     "execution_count": 21,
     "metadata": {},
     "output_type": "execute_result"
    }
   ],
   "source": [
    "tag_filtered.shape"
   ]
  },
  {
   "cell_type": "markdown",
   "metadata": {},
   "source": [
    "### 3. ia_channel_master\n",
    "채널정보 기반 제거"
   ]
  },
  {
   "cell_type": "code",
   "execution_count": 22,
   "metadata": {},
   "outputs": [],
   "source": [
    "loadPath = '../data/instagram/post/doc2vec_ta_hashtag_idx2name.txt'\n",
    "channel_data = pd.read_csv(loadPath, header=None, sep=\"\\t\")\n",
    "channel_data.columns = ['id', 'username', 'follower_cnt', 'following_cnt', 'media_cnt']"
   ]
  },
  {
   "cell_type": "code",
   "execution_count": 23,
   "metadata": {},
   "outputs": [
    {
     "data": {
      "text/plain": [
       "(32602655, 5)"
      ]
     },
     "execution_count": 23,
     "metadata": {},
     "output_type": "execute_result"
    }
   ],
   "source": [
    "channel_data.shape"
   ]
  },
  {
   "cell_type": "code",
   "execution_count": null,
   "metadata": {},
   "outputs": [],
   "source": []
  },
  {
   "cell_type": "code",
   "execution_count": 24,
   "metadata": {},
   "outputs": [],
   "source": [
    "# 최소값 제한\n",
    "channel_filter = channel_data[(channel_data['media_cnt']>50) & (channel_data['follower_cnt']>100)]"
   ]
  },
  {
   "cell_type": "code",
   "execution_count": 25,
   "metadata": {},
   "outputs": [
    {
     "data": {
      "text/plain": [
       "0    2138464578\n",
       "1     471039796\n",
       "2    2018370619\n",
       "3    2136037831\n",
       "4    1502061349\n",
       "Name: id, dtype: int64"
      ]
     },
     "execution_count": 25,
     "metadata": {},
     "output_type": "execute_result"
    }
   ],
   "source": [
    "channel_filter['id'][:5]"
   ]
  },
  {
   "cell_type": "code",
   "execution_count": 26,
   "metadata": {},
   "outputs": [
    {
     "data": {
      "text/plain": [
       "(3692172,)"
      ]
     },
     "execution_count": 26,
     "metadata": {},
     "output_type": "execute_result"
    }
   ],
   "source": [
    "channel_filter['id'].shape"
   ]
  },
  {
   "cell_type": "code",
   "execution_count": 27,
   "metadata": {},
   "outputs": [],
   "source": [
    "# filtering\n",
    "tag_channel_filtered = tag_filtered[tag_filtered['pm_owner_id'].isin(channel_filter['id'])]\n",
    "tag_channel_filtered = tag_channel_filtered.reset_index(drop=True)"
   ]
  },
  {
   "cell_type": "code",
   "execution_count": 36,
   "metadata": {},
   "outputs": [],
   "source": [
    "# 띄어쓰기 처리\n",
    "tag_channel_filtered['pm_hashtag'] = tag_channel_filtered['pm_hashtag'].map(lambda x:x.replace(',',' '))"
   ]
  },
  {
   "cell_type": "code",
   "execution_count": 37,
   "metadata": {},
   "outputs": [
    {
     "data": {
      "text/html": [
       "<div>\n",
       "<style scoped>\n",
       "    .dataframe tbody tr th:only-of-type {\n",
       "        vertical-align: middle;\n",
       "    }\n",
       "\n",
       "    .dataframe tbody tr th {\n",
       "        vertical-align: top;\n",
       "    }\n",
       "\n",
       "    .dataframe thead th {\n",
       "        text-align: right;\n",
       "    }\n",
       "</style>\n",
       "<table border=\"1\" class=\"dataframe\">\n",
       "  <thead>\n",
       "    <tr style=\"text-align: right;\">\n",
       "      <th></th>\n",
       "      <th>pm_owner_id</th>\n",
       "      <th>pm_id</th>\n",
       "      <th>pm_shortcode</th>\n",
       "      <th>pm_hashtag</th>\n",
       "      <th>pm_view_count</th>\n",
       "      <th>pm_like_count</th>\n",
       "      <th>pm_comment_count</th>\n",
       "    </tr>\n",
       "  </thead>\n",
       "  <tbody>\n",
       "    <tr>\n",
       "      <th>0</th>\n",
       "      <td>4134297806</td>\n",
       "      <td>1928115241867045777</td>\n",
       "      <td>BrCCpjNgGuR</td>\n",
       "      <td>패션</td>\n",
       "      <td>0</td>\n",
       "      <td>420</td>\n",
       "      <td>172</td>\n",
       "    </tr>\n",
       "    <tr>\n",
       "      <th>1</th>\n",
       "      <td>1383284232</td>\n",
       "      <td>1928034779094274576</td>\n",
       "      <td>BrBwWqag1IQ</td>\n",
       "      <td>패션 데일리룩 셀스타그램 거울샷 셀카 셀피 아이폰 오오티디 니트 터틀넥니트 like...</td>\n",
       "      <td>0</td>\n",
       "      <td>358</td>\n",
       "      <td>13</td>\n",
       "    </tr>\n",
       "    <tr>\n",
       "      <th>2</th>\n",
       "      <td>3076185780</td>\n",
       "      <td>1928082021772864298</td>\n",
       "      <td>BrB7GIllqsq</td>\n",
       "      <td>패션 commedesgarcons</td>\n",
       "      <td>0</td>\n",
       "      <td>605</td>\n",
       "      <td>21</td>\n",
       "    </tr>\n",
       "    <tr>\n",
       "      <th>3</th>\n",
       "      <td>7119582609</td>\n",
       "      <td>1928108695347124221</td>\n",
       "      <td>BrCBKSSgdf9</td>\n",
       "      <td>패션</td>\n",
       "      <td>0</td>\n",
       "      <td>226</td>\n",
       "      <td>17</td>\n",
       "    </tr>\n",
       "    <tr>\n",
       "      <th>4</th>\n",
       "      <td>6901441457</td>\n",
       "      <td>1928098827736537571</td>\n",
       "      <td>BrB-6sXFVnj</td>\n",
       "      <td>패션</td>\n",
       "      <td>0</td>\n",
       "      <td>584</td>\n",
       "      <td>22</td>\n",
       "    </tr>\n",
       "  </tbody>\n",
       "</table>\n",
       "</div>"
      ],
      "text/plain": [
       "   pm_owner_id                pm_id pm_shortcode  \\\n",
       "0   4134297806  1928115241867045777  BrCCpjNgGuR   \n",
       "1   1383284232  1928034779094274576  BrBwWqag1IQ   \n",
       "2   3076185780  1928082021772864298  BrB7GIllqsq   \n",
       "3   7119582609  1928108695347124221  BrCBKSSgdf9   \n",
       "4   6901441457  1928098827736537571  BrB-6sXFVnj   \n",
       "\n",
       "                                          pm_hashtag  pm_view_count  \\\n",
       "0                                                 패션              0   \n",
       "1  패션 데일리룩 셀스타그램 거울샷 셀카 셀피 아이폰 오오티디 니트 터틀넥니트 like...              0   \n",
       "2                                 패션 commedesgarcons              0   \n",
       "3                                                 패션              0   \n",
       "4                                                 패션              0   \n",
       "\n",
       "   pm_like_count  pm_comment_count  \n",
       "0            420               172  \n",
       "1            358                13  \n",
       "2            605                21  \n",
       "3            226                17  \n",
       "4            584                22  "
      ]
     },
     "execution_count": 37,
     "metadata": {},
     "output_type": "execute_result"
    }
   ],
   "source": [
    "tag_channel_filtered[:5]"
   ]
  },
  {
   "cell_type": "code",
   "execution_count": 38,
   "metadata": {},
   "outputs": [
    {
     "data": {
      "text/plain": [
       "(20879572, 7)"
      ]
     },
     "execution_count": 38,
     "metadata": {},
     "output_type": "execute_result"
    }
   ],
   "source": [
    "tag_channel_filtered.shape"
   ]
  },
  {
   "cell_type": "markdown",
   "metadata": {},
   "source": [
    "### 4. NLP "
   ]
  },
  {
   "cell_type": "code",
   "execution_count": 95,
   "metadata": {},
   "outputs": [],
   "source": [
    "from konlpy.tag import Okt\n",
    "okt = Okt()"
   ]
  },
  {
   "cell_type": "code",
   "execution_count": 96,
   "metadata": {},
   "outputs": [],
   "source": [
    "# 띄어쓰기 처리\n",
    "tag_channel_filtered[1] = tag_channel_filtered[1].map(lambda x:x.replace(',',' '))"
   ]
  },
  {
   "cell_type": "code",
   "execution_count": 97,
   "metadata": {},
   "outputs": [
    {
     "data": {
      "text/html": [
       "<div>\n",
       "<style scoped>\n",
       "    .dataframe tbody tr th:only-of-type {\n",
       "        vertical-align: middle;\n",
       "    }\n",
       "\n",
       "    .dataframe tbody tr th {\n",
       "        vertical-align: top;\n",
       "    }\n",
       "\n",
       "    .dataframe thead th {\n",
       "        text-align: right;\n",
       "    }\n",
       "</style>\n",
       "<table border=\"1\" class=\"dataframe\">\n",
       "  <thead>\n",
       "    <tr style=\"text-align: right;\">\n",
       "      <th></th>\n",
       "      <th>0</th>\n",
       "      <th>1</th>\n",
       "    </tr>\n",
       "  </thead>\n",
       "  <tbody>\n",
       "    <tr>\n",
       "      <th>0</th>\n",
       "      <td>4134297806</td>\n",
       "      <td>패션</td>\n",
       "    </tr>\n",
       "    <tr>\n",
       "      <th>1</th>\n",
       "      <td>1383284232</td>\n",
       "      <td>패션 데일리룩 셀스타그램 거울샷 셀카 셀피 아이폰 오오티디 니트 터틀넥니트 like...</td>\n",
       "    </tr>\n",
       "    <tr>\n",
       "      <th>2</th>\n",
       "      <td>3076185780</td>\n",
       "      <td>패션 commedesgarcons</td>\n",
       "    </tr>\n",
       "    <tr>\n",
       "      <th>3</th>\n",
       "      <td>7119582609</td>\n",
       "      <td>패션</td>\n",
       "    </tr>\n",
       "  </tbody>\n",
       "</table>\n",
       "</div>"
      ],
      "text/plain": [
       "            0                                                  1\n",
       "0  4134297806                                                 패션\n",
       "1  1383284232  패션 데일리룩 셀스타그램 거울샷 셀카 셀피 아이폰 오오티디 니트 터틀넥니트 like...\n",
       "2  3076185780                                 패션 commedesgarcons\n",
       "3  7119582609                                                 패션"
      ]
     },
     "execution_count": 97,
     "metadata": {},
     "output_type": "execute_result"
    }
   ],
   "source": [
    "tag_channel_filtered[:4]"
   ]
  },
  {
   "cell_type": "code",
   "execution_count": 100,
   "metadata": {
    "scrolled": true
   },
   "outputs": [
    {
     "name": "stdout",
     "output_type": "stream",
     "text": [
      "패션\n",
      "패션 데일리룩 셀스타그램 거울샷 셀카 셀피 아이폰 오오티디 니트 터틀넥니트 likeforlikes 좋아요반사 선팔하면맞팔 맞팔 서울 selca selfie dailylook dailyfashion fff\n",
      "패션 commedesgarcons\n",
      "패션\n",
      "패션\n",
      "패션\n",
      "상하복 육아맘\n",
      "상하복 아동복 의정부아동복 민락2지구아동복 겨울아동복 예쁜아동복 겨울상하복 민락2지구 모토민락 소통해요\n",
      "상하복 loungewear 이번크리스마스에는 실내복도_엣지있게 봉봉퐁당\n",
      "스트릿패션 iphonexr rafsimons pumafenty ajobyajo vintage kappa nikoand guccigarden mygqlook\n",
      "스트릿패션\n",
      "Wall time: 7.72 s\n"
     ]
    }
   ],
   "source": [
    "'''\n",
    "태그뭉치를 형태소분석하는것은 불필요\n",
    "1. 신조어가 많음\n",
    "2. 처리속도 느림 primary tag에 적용하여 치환하는 방법해야할듯\n",
    "3. 결과?\n",
    "doc2vec을 태그 정보에 사용하는게 의미있는일인가? 하는 의문\n",
    "태그는 post에 묶여있고 post가 id에 묶여있는데\n",
    "잘 나뉘는 경우는 채널에서 굉장히 일관적인 포스트를 올리는 경우임\n",
    "광고, 먹방, 육아, 신혼, 동물 같이 뚜렸하게 편중된 경향을 보이는 채널.\n",
    "일상, 여행, 광범위한 포스팅을 하는 경우는 넓게 확산되는 경향\n",
    "클러스터를 만들기위해선 채널 말고 포스트 기준으로 해야할듯\n",
    "검색 : tag->post->channel\n",
    "\n",
    "'''\n",
    "\n",
    "%%time\n",
    "# temp=['샤오미드리미v10p 무선청소기 가성비갑 가전제품추천 commedesgarcons 청소기돌리기 청결유지 클린존만들기 일상 데일리 청소부모드 commedesgarcons']\n",
    "# okt.nouns(temp[0])\n",
    "\n",
    "\n",
    "\n",
    "for i in tag_channel_filtered.index :\n",
    "    if i > 10 : break\n",
    "    print(tag_channel_filtered.loc[i, 1]);\n",
    "    tag_channel_filtered.loc[i, 2] = ' '.join(okt.nouns(tag_channel_filtered.loc[i, 1]))\n"
   ]
  },
  {
   "cell_type": "code",
   "execution_count": 40,
   "metadata": {},
   "outputs": [
    {
     "data": {
      "text/html": [
       "<div>\n",
       "<style scoped>\n",
       "    .dataframe tbody tr th:only-of-type {\n",
       "        vertical-align: middle;\n",
       "    }\n",
       "\n",
       "    .dataframe tbody tr th {\n",
       "        vertical-align: top;\n",
       "    }\n",
       "\n",
       "    .dataframe thead th {\n",
       "        text-align: right;\n",
       "    }\n",
       "</style>\n",
       "<table border=\"1\" class=\"dataframe\">\n",
       "  <thead>\n",
       "    <tr style=\"text-align: right;\">\n",
       "      <th></th>\n",
       "      <th>pm_owner_id</th>\n",
       "      <th>pm_id</th>\n",
       "      <th>pm_shortcode</th>\n",
       "      <th>pm_hashtag</th>\n",
       "      <th>pm_view_count</th>\n",
       "      <th>pm_like_count</th>\n",
       "      <th>pm_comment_count</th>\n",
       "    </tr>\n",
       "  </thead>\n",
       "  <tbody>\n",
       "    <tr>\n",
       "      <th>0</th>\n",
       "      <td>4134297806</td>\n",
       "      <td>1928115241867045777</td>\n",
       "      <td>BrCCpjNgGuR</td>\n",
       "      <td>패션</td>\n",
       "      <td>0</td>\n",
       "      <td>420</td>\n",
       "      <td>172</td>\n",
       "    </tr>\n",
       "    <tr>\n",
       "      <th>1</th>\n",
       "      <td>1383284232</td>\n",
       "      <td>1928034779094274576</td>\n",
       "      <td>BrBwWqag1IQ</td>\n",
       "      <td>패션 데일리룩 셀스타그램 거울샷 셀카 셀피 아이폰 오오티디 니트 터틀넥니트 like...</td>\n",
       "      <td>0</td>\n",
       "      <td>358</td>\n",
       "      <td>13</td>\n",
       "    </tr>\n",
       "    <tr>\n",
       "      <th>2</th>\n",
       "      <td>3076185780</td>\n",
       "      <td>1928082021772864298</td>\n",
       "      <td>BrB7GIllqsq</td>\n",
       "      <td>패션 commedesgarcons</td>\n",
       "      <td>0</td>\n",
       "      <td>605</td>\n",
       "      <td>21</td>\n",
       "    </tr>\n",
       "    <tr>\n",
       "      <th>3</th>\n",
       "      <td>7119582609</td>\n",
       "      <td>1928108695347124221</td>\n",
       "      <td>BrCBKSSgdf9</td>\n",
       "      <td>패션</td>\n",
       "      <td>0</td>\n",
       "      <td>226</td>\n",
       "      <td>17</td>\n",
       "    </tr>\n",
       "    <tr>\n",
       "      <th>4</th>\n",
       "      <td>6901441457</td>\n",
       "      <td>1928098827736537571</td>\n",
       "      <td>BrB-6sXFVnj</td>\n",
       "      <td>패션</td>\n",
       "      <td>0</td>\n",
       "      <td>584</td>\n",
       "      <td>22</td>\n",
       "    </tr>\n",
       "    <tr>\n",
       "      <th>5</th>\n",
       "      <td>4029414583</td>\n",
       "      <td>1928042907967549090</td>\n",
       "      <td>BrByM9BHe6i</td>\n",
       "      <td>패션</td>\n",
       "      <td>0</td>\n",
       "      <td>295</td>\n",
       "      <td>52</td>\n",
       "    </tr>\n",
       "    <tr>\n",
       "      <th>6</th>\n",
       "      <td>2209059313</td>\n",
       "      <td>1928098221851458024</td>\n",
       "      <td>BrB-x4FhLno</td>\n",
       "      <td>상하복 육아맘</td>\n",
       "      <td>0</td>\n",
       "      <td>12</td>\n",
       "      <td>1</td>\n",
       "    </tr>\n",
       "    <tr>\n",
       "      <th>7</th>\n",
       "      <td>8615246965</td>\n",
       "      <td>1928137424207466357</td>\n",
       "      <td>BrCHsWIBc91</td>\n",
       "      <td>상하복 아동복 의정부아동복 민락2지구아동복 겨울아동복 예쁜아동복 겨울상하복 민락2지...</td>\n",
       "      <td>0</td>\n",
       "      <td>16</td>\n",
       "      <td>0</td>\n",
       "    </tr>\n",
       "    <tr>\n",
       "      <th>8</th>\n",
       "      <td>3174670038</td>\n",
       "      <td>1928038816984478019</td>\n",
       "      <td>BrBxRa_hjFD</td>\n",
       "      <td>상하복 loungewear 이번크리스마스에는 실내복도_엣지있게 봉봉퐁당</td>\n",
       "      <td>0</td>\n",
       "      <td>25</td>\n",
       "      <td>1</td>\n",
       "    </tr>\n",
       "    <tr>\n",
       "      <th>9</th>\n",
       "      <td>277413730</td>\n",
       "      <td>1927752532818754047</td>\n",
       "      <td>BrAwLcFhXn_</td>\n",
       "      <td>스트릿패션 iphonexr rafsimons pumafenty ajobyajo vi...</td>\n",
       "      <td>0</td>\n",
       "      <td>474</td>\n",
       "      <td>10</td>\n",
       "    </tr>\n",
       "  </tbody>\n",
       "</table>\n",
       "</div>"
      ],
      "text/plain": [
       "   pm_owner_id                pm_id pm_shortcode  \\\n",
       "0   4134297806  1928115241867045777  BrCCpjNgGuR   \n",
       "1   1383284232  1928034779094274576  BrBwWqag1IQ   \n",
       "2   3076185780  1928082021772864298  BrB7GIllqsq   \n",
       "3   7119582609  1928108695347124221  BrCBKSSgdf9   \n",
       "4   6901441457  1928098827736537571  BrB-6sXFVnj   \n",
       "5   4029414583  1928042907967549090  BrByM9BHe6i   \n",
       "6   2209059313  1928098221851458024  BrB-x4FhLno   \n",
       "7   8615246965  1928137424207466357  BrCHsWIBc91   \n",
       "8   3174670038  1928038816984478019  BrBxRa_hjFD   \n",
       "9    277413730  1927752532818754047  BrAwLcFhXn_   \n",
       "\n",
       "                                          pm_hashtag  pm_view_count  \\\n",
       "0                                                 패션              0   \n",
       "1  패션 데일리룩 셀스타그램 거울샷 셀카 셀피 아이폰 오오티디 니트 터틀넥니트 like...              0   \n",
       "2                                 패션 commedesgarcons              0   \n",
       "3                                                 패션              0   \n",
       "4                                                 패션              0   \n",
       "5                                                 패션              0   \n",
       "6                                            상하복 육아맘              0   \n",
       "7  상하복 아동복 의정부아동복 민락2지구아동복 겨울아동복 예쁜아동복 겨울상하복 민락2지...              0   \n",
       "8            상하복 loungewear 이번크리스마스에는 실내복도_엣지있게 봉봉퐁당              0   \n",
       "9  스트릿패션 iphonexr rafsimons pumafenty ajobyajo vi...              0   \n",
       "\n",
       "   pm_like_count  pm_comment_count  \n",
       "0            420               172  \n",
       "1            358                13  \n",
       "2            605                21  \n",
       "3            226                17  \n",
       "4            584                22  \n",
       "5            295                52  \n",
       "6             12                 1  \n",
       "7             16                 0  \n",
       "8             25                 1  \n",
       "9            474                10  "
      ]
     },
     "execution_count": 40,
     "metadata": {},
     "output_type": "execute_result"
    }
   ],
   "source": [
    "tag_channel_filtered[:10]"
   ]
  },
  {
   "cell_type": "markdown",
   "metadata": {},
   "source": [
    "### 저장"
   ]
  },
  {
   "cell_type": "code",
   "execution_count": 39,
   "metadata": {},
   "outputs": [],
   "source": [
    "savePath = '../data/instagram/post/doc2vec_ta_hashtag_filtered.txt'\n",
    "tag_channel_filtered.to_csv(savePath, index=False, header=None, sep=\"\\t\")"
   ]
  },
  {
   "cell_type": "code",
   "execution_count": null,
   "metadata": {},
   "outputs": [],
   "source": []
  },
  {
   "cell_type": "code",
   "execution_count": null,
   "metadata": {},
   "outputs": [],
   "source": []
  },
  {
   "cell_type": "code",
   "execution_count": null,
   "metadata": {},
   "outputs": [],
   "source": []
  },
  {
   "cell_type": "code",
   "execution_count": 32,
   "metadata": {},
   "outputs": [
    {
     "name": "stdout",
     "output_type": "stream",
     "text": [
      "Wall time: 11.1 s\n"
     ]
    }
   ],
   "source": [
    "%%time\n",
    "temp = tag_channel_filtered.set_index('pm_hashtag').filter(like='패션', axis=0)"
   ]
  },
  {
   "cell_type": "code",
   "execution_count": 33,
   "metadata": {},
   "outputs": [
    {
     "name": "stdout",
     "output_type": "stream",
     "text": [
      "Wall time: 17.3 s\n"
     ]
    }
   ],
   "source": [
    "%%time\n",
    "tempMask = tag_channel_filtered['pm_hashtag'].str.contains('패션|일상|ootd')"
   ]
  },
  {
   "cell_type": "code",
   "execution_count": 34,
   "metadata": {},
   "outputs": [
    {
     "data": {
      "text/html": [
       "<div>\n",
       "<style scoped>\n",
       "    .dataframe tbody tr th:only-of-type {\n",
       "        vertical-align: middle;\n",
       "    }\n",
       "\n",
       "    .dataframe tbody tr th {\n",
       "        vertical-align: top;\n",
       "    }\n",
       "\n",
       "    .dataframe thead th {\n",
       "        text-align: right;\n",
       "    }\n",
       "</style>\n",
       "<table border=\"1\" class=\"dataframe\">\n",
       "  <thead>\n",
       "    <tr style=\"text-align: right;\">\n",
       "      <th></th>\n",
       "      <th>pm_owner_id</th>\n",
       "      <th>pm_id</th>\n",
       "      <th>pm_shortcode</th>\n",
       "      <th>pm_hashtag</th>\n",
       "      <th>pm_view_count</th>\n",
       "      <th>pm_like_count</th>\n",
       "      <th>pm_comment_count</th>\n",
       "    </tr>\n",
       "  </thead>\n",
       "  <tbody>\n",
       "    <tr>\n",
       "      <th>0</th>\n",
       "      <td>4134297806</td>\n",
       "      <td>1928115241867045777</td>\n",
       "      <td>BrCCpjNgGuR</td>\n",
       "      <td>패션</td>\n",
       "      <td>0</td>\n",
       "      <td>420</td>\n",
       "      <td>172</td>\n",
       "    </tr>\n",
       "    <tr>\n",
       "      <th>1</th>\n",
       "      <td>1383284232</td>\n",
       "      <td>1928034779094274576</td>\n",
       "      <td>BrBwWqag1IQ</td>\n",
       "      <td>패션,데일리룩,셀스타그램,거울샷,셀카,셀피,아이폰,오오티디,니트,터틀넥니트,like...</td>\n",
       "      <td>0</td>\n",
       "      <td>358</td>\n",
       "      <td>13</td>\n",
       "    </tr>\n",
       "    <tr>\n",
       "      <th>2</th>\n",
       "      <td>3076185780</td>\n",
       "      <td>1928082021772864298</td>\n",
       "      <td>BrB7GIllqsq</td>\n",
       "      <td>패션,commedesgarcons</td>\n",
       "      <td>0</td>\n",
       "      <td>605</td>\n",
       "      <td>21</td>\n",
       "    </tr>\n",
       "    <tr>\n",
       "      <th>3</th>\n",
       "      <td>7119582609</td>\n",
       "      <td>1928108695347124221</td>\n",
       "      <td>BrCBKSSgdf9</td>\n",
       "      <td>패션</td>\n",
       "      <td>0</td>\n",
       "      <td>226</td>\n",
       "      <td>17</td>\n",
       "    </tr>\n",
       "    <tr>\n",
       "      <th>4</th>\n",
       "      <td>6901441457</td>\n",
       "      <td>1928098827736537571</td>\n",
       "      <td>BrB-6sXFVnj</td>\n",
       "      <td>패션</td>\n",
       "      <td>0</td>\n",
       "      <td>584</td>\n",
       "      <td>22</td>\n",
       "    </tr>\n",
       "    <tr>\n",
       "      <th>5</th>\n",
       "      <td>4029414583</td>\n",
       "      <td>1928042907967549090</td>\n",
       "      <td>BrByM9BHe6i</td>\n",
       "      <td>패션</td>\n",
       "      <td>0</td>\n",
       "      <td>295</td>\n",
       "      <td>52</td>\n",
       "    </tr>\n",
       "    <tr>\n",
       "      <th>9</th>\n",
       "      <td>277413730</td>\n",
       "      <td>1927752532818754047</td>\n",
       "      <td>BrAwLcFhXn_</td>\n",
       "      <td>스트릿패션,iphonexr,rafsimons,pumafenty,ajobyajo,vi...</td>\n",
       "      <td>0</td>\n",
       "      <td>474</td>\n",
       "      <td>10</td>\n",
       "    </tr>\n",
       "    <tr>\n",
       "      <th>10</th>\n",
       "      <td>3980814570</td>\n",
       "      <td>1928076587162886431</td>\n",
       "      <td>BrB53DNl2Ef</td>\n",
       "      <td>스트릿패션</td>\n",
       "      <td>0</td>\n",
       "      <td>515</td>\n",
       "      <td>21</td>\n",
       "    </tr>\n",
       "    <tr>\n",
       "      <th>11</th>\n",
       "      <td>2999442358</td>\n",
       "      <td>1928017410993028782</td>\n",
       "      <td>BrBsZ7HAf6u</td>\n",
       "      <td>스트릿패션</td>\n",
       "      <td>0</td>\n",
       "      <td>426</td>\n",
       "      <td>53</td>\n",
       "    </tr>\n",
       "    <tr>\n",
       "      <th>22</th>\n",
       "      <td>8801957789</td>\n",
       "      <td>1927736295636010424</td>\n",
       "      <td>BrAsfKCAwW4</td>\n",
       "      <td>주니어패션,뚜아멜라,디자이너브랜드,자체제작아동복,아동복,유아동복,감성아동복,이쁜아기...</td>\n",
       "      <td>0</td>\n",
       "      <td>45</td>\n",
       "      <td>5</td>\n",
       "    </tr>\n",
       "  </tbody>\n",
       "</table>\n",
       "</div>"
      ],
      "text/plain": [
       "    pm_owner_id                pm_id pm_shortcode  \\\n",
       "0    4134297806  1928115241867045777  BrCCpjNgGuR   \n",
       "1    1383284232  1928034779094274576  BrBwWqag1IQ   \n",
       "2    3076185780  1928082021772864298  BrB7GIllqsq   \n",
       "3    7119582609  1928108695347124221  BrCBKSSgdf9   \n",
       "4    6901441457  1928098827736537571  BrB-6sXFVnj   \n",
       "5    4029414583  1928042907967549090  BrByM9BHe6i   \n",
       "9     277413730  1927752532818754047  BrAwLcFhXn_   \n",
       "10   3980814570  1928076587162886431  BrB53DNl2Ef   \n",
       "11   2999442358  1928017410993028782  BrBsZ7HAf6u   \n",
       "22   8801957789  1927736295636010424  BrAsfKCAwW4   \n",
       "\n",
       "                                           pm_hashtag  pm_view_count  \\\n",
       "0                                                  패션              0   \n",
       "1   패션,데일리룩,셀스타그램,거울샷,셀카,셀피,아이폰,오오티디,니트,터틀넥니트,like...              0   \n",
       "2                                  패션,commedesgarcons              0   \n",
       "3                                                  패션              0   \n",
       "4                                                  패션              0   \n",
       "5                                                  패션              0   \n",
       "9   스트릿패션,iphonexr,rafsimons,pumafenty,ajobyajo,vi...              0   \n",
       "10                                              스트릿패션              0   \n",
       "11                                              스트릿패션              0   \n",
       "22  주니어패션,뚜아멜라,디자이너브랜드,자체제작아동복,아동복,유아동복,감성아동복,이쁜아기...              0   \n",
       "\n",
       "    pm_like_count  pm_comment_count  \n",
       "0             420               172  \n",
       "1             358                13  \n",
       "2             605                21  \n",
       "3             226                17  \n",
       "4             584                22  \n",
       "5             295                52  \n",
       "9             474                10  \n",
       "10            515                21  \n",
       "11            426                53  \n",
       "22             45                 5  "
      ]
     },
     "execution_count": 34,
     "metadata": {},
     "output_type": "execute_result"
    }
   ],
   "source": [
    "tag_channel_filtered[tempMask][:10]"
   ]
  },
  {
   "cell_type": "code",
   "execution_count": 35,
   "metadata": {},
   "outputs": [
    {
     "data": {
      "text/plain": [
       "(347286, 6)"
      ]
     },
     "execution_count": 35,
     "metadata": {},
     "output_type": "execute_result"
    }
   ],
   "source": [
    "temp.shape"
   ]
  },
  {
   "cell_type": "code",
   "execution_count": null,
   "metadata": {},
   "outputs": [],
   "source": []
  }
 ],
 "metadata": {
  "anaconda-cloud": {},
  "kernelspec": {
   "display_name": "Python 3",
   "language": "python",
   "name": "python3"
  },
  "language_info": {
   "codemirror_mode": {
    "name": "ipython",
    "version": 3
   },
   "file_extension": ".py",
   "mimetype": "text/x-python",
   "name": "python",
   "nbconvert_exporter": "python",
   "pygments_lexer": "ipython3",
   "version": "3.7.6"
  }
 },
 "nbformat": 4,
 "nbformat_minor": 2
}
